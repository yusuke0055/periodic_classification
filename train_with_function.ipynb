{
 "cells": [
  {
   "cell_type": "code",
   "execution_count": 1,
   "metadata": {},
   "outputs": [],
   "source": [
    "import torch\n",
    "import torch.nn as nn\n",
    "import torch.optim as optim\n",
    "from torch.optim import lr_scheduler\n",
    "import numpy as np\n",
    "from torchvision import datasets, models, transforms\n",
    "import torch.utils.data as data\n",
    "import matplotlib.pyplot as plt\n",
    "\n",
    "import pickle as pkl\n",
    "import copy\n",
    "import os\n",
    "\n",
    "from sklearn.metrics import confusion_matrix\n",
    "import sys\n",
    "import utils"
   ]
  },
  {
   "cell_type": "code",
   "execution_count": 2,
   "metadata": {},
   "outputs": [
    {
     "name": "stdout",
     "output_type": "stream",
     "text": [
      "55\n",
      "53\n",
      "1\n"
     ]
    }
   ],
   "source": [
    "all_class = os.listdir(\"../Images/periodic/all\")\n",
    "print(len(all_class))\n",
    "\n",
    "remove_classes = [\"stone-wall4.o\"]\n",
    "test_classes   = [\"B5CC4D9964F342BD.o\"]\n",
    "all_class = [ i for i in all_class if i not in remove_classes ]\n",
    "\n",
    "train_target_classes = [ i for i in all_class if i not in test_classes ]\n",
    "test_target_classes =  [ i for i in all_class if i in test_classes ]\n",
    "\n",
    "print(len(train_target_classes))\n",
    "print(len(test_target_classes))"
   ]
  },
  {
   "cell_type": "code",
   "execution_count": 3,
   "metadata": {},
   "outputs": [],
   "source": [
    "train_packs = utils.get_paths(train_target_classes)\n",
    "test_packs  = utils.get_paths(test_target_classes)\n",
    "train_transforms = utils.data_transformer_torch_train()\n",
    "test_transforms  = utils.data_transformer_torch_test()"
   ]
  },
  {
   "cell_type": "code",
   "execution_count": 4,
   "metadata": {},
   "outputs": [],
   "source": [
    "datasets_train = utils.Img_Dataset(file_list=train_packs[0],transform=train_transforms,labels=train_packs[1],class_labels=train_packs[2])\n",
    "datasets_test  = utils.Img_Dataset(file_list=test_packs[0] ,transform=test_transforms,labels=test_packs[1],class_labels=test_packs[2])\n",
    "\n",
    "dataloader_train = torch.utils.data.DataLoader(datasets_train, batch_size=8, shuffle=True,num_workers=8)\n",
    "dataloader_test  = torch.utils.data.DataLoader(datasets_test , batch_size=8, shuffle=False,num_workers=8)\n",
    "\n",
    "dataloaders  = {\"train\":dataloader_train,\"val\":dataloader_test }\n",
    "dataset_sizes ={\"train\":len(datasets_train),\"val\":len(datasets_test)}"
   ]
  },
  {
   "cell_type": "code",
   "execution_count": 5,
   "metadata": {
    "scrolled": true
   },
   "outputs": [],
   "source": [
    "model = models.vgg16(pretrained=True)\n",
    "model.classifier = nn.Sequential(\n",
    "        nn.Linear(25088,100),\n",
    "        nn.ReLU(),\n",
    "        nn.Dropout(0.5),\n",
    "        nn.Linear(100,1) ,nn.Sigmoid())"
   ]
  },
  {
   "cell_type": "code",
   "execution_count": 6,
   "metadata": {},
   "outputs": [],
   "source": [
    "#criterion = nn.CrossEntropyLoss()\n",
    "criterion = nn.BCELoss()\n",
    "optimizer = optim.SGD(model.parameters(), lr=0.001, momentum=0.9)\n",
    "scheduler = lr_scheduler.StepLR(optimizer, step_size=10, gamma=0.5)"
   ]
  },
  {
   "cell_type": "code",
   "execution_count": 8,
   "metadata": {},
   "outputs": [
    {
     "name": "stdout",
     "output_type": "stream",
     "text": [
      "Epoch 1/5\n",
      "----------\n",
      "---train---\n",
      "train Loss: 0.5219 ,ACC:0.7373\n",
      "---val---\n",
      "val Loss: 0.0888 ,ACC:1.0000\n",
      "Epoch 2/5\n",
      "----------\n",
      "---train---\n",
      "train Loss: 0.4198 ,ACC:0.8107\n",
      "---val---\n",
      "val Loss: 0.4174 ,ACC:0.7000\n",
      "Epoch 3/5\n",
      "----------\n",
      "---train---\n",
      "train Loss: 0.4031 ,ACC:0.8004\n",
      "---val---\n",
      "val Loss: 0.0564 ,ACC:1.0000\n",
      "Epoch 4/5\n",
      "----------\n",
      "---train---\n",
      "train Loss: 0.3072 ,ACC:0.8672\n",
      "---val---\n",
      "val Loss: 0.0513 ,ACC:1.0000\n",
      "Epoch 5/5\n",
      "----------\n",
      "---train---\n",
      "train Loss: 0.2791 ,ACC:0.8635\n",
      "---val---\n",
      "val Loss: 0.0105 ,ACC:1.0000\n"
     ]
    }
   ],
   "source": [
    "model,loss_dict,acc_dict = utils.training_model(dataloaders,dataset_sizes,model,criterion,\n",
    "                     optimizer,scheduler,num_epochs=5)"
   ]
  },
  {
   "cell_type": "code",
   "execution_count": 9,
   "metadata": {},
   "outputs": [],
   "source": [
    "with open(\"models/log.pkl\",\"wb\") as f:\n",
    "    pkl.dump([loss_dict,acc_dict],f)\n",
    "\n",
    "torch.save(model.state_dict(),\"models/final_model_wts.pt\")"
   ]
  },
  {
   "cell_type": "code",
   "execution_count": null,
   "metadata": {},
   "outputs": [],
   "source": []
  }
 ],
 "metadata": {
  "kernelspec": {
   "display_name": "Python 3",
   "language": "python",
   "name": "python3"
  },
  "language_info": {
   "codemirror_mode": {
    "name": "ipython",
    "version": 3
   },
   "file_extension": ".py",
   "mimetype": "text/x-python",
   "name": "python",
   "nbconvert_exporter": "python",
   "pygments_lexer": "ipython3",
   "version": "3.6.8"
  }
 },
 "nbformat": 4,
 "nbformat_minor": 2
}
