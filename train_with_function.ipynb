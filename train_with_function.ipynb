{
 "cells": [
  {
   "cell_type": "code",
   "execution_count": 1,
   "metadata": {},
   "outputs": [],
   "source": [
    "import torch\n",
    "import torch.nn as nn\n",
    "import torch.optim as optim\n",
    "from torch.optim import lr_scheduler\n",
    "import numpy as np\n",
    "from torchvision import datasets, models, transforms\n",
    "import torch.utils.data as data\n",
    "import matplotlib.pyplot as plt\n",
    "\n",
    "import pickle as pkl\n",
    "import copy\n",
    "import os\n",
    "\n",
    "from sklearn.metrics import confusion_matrix\n",
    "import sys\n",
    "import utils"
   ]
  },
  {
   "cell_type": "code",
   "execution_count": 2,
   "metadata": {},
   "outputs": [
    {
     "name": "stdout",
     "output_type": "stream",
     "text": [
      "55\n",
      "49\n",
      "5\n"
     ]
    }
   ],
   "source": [
    "all_class = os.listdir(\"../Images/periodic/all\")\n",
    "print(len(all_class))\n",
    "\n",
    "remove_classes = [\"stone-wall4.o\"]\n",
    "test_classes   = all_class[:5]\n",
    "all_class = [ i for i in all_class if i not in remove_classes ]\n",
    "\n",
    "train_target_classes = [ i for i in all_class if i not in test_classes ]\n",
    "test_target_classes =  [ i for i in all_class if i in test_classes ]\n",
    "\n",
    "print(len(train_target_classes))\n",
    "print(len(test_target_classes))"
   ]
  },
  {
   "cell_type": "code",
   "execution_count": 3,
   "metadata": {},
   "outputs": [],
   "source": [
    "train_packs = utils.get_paths(train_target_classes)\n",
    "test_packs  = utils.get_paths(test_target_classes)\n",
    "train_transforms = utils.data_transformer_torch_train()\n",
    "test_transforms  = utils.data_transformer_torch_test()"
   ]
  },
  {
   "cell_type": "code",
   "execution_count": 4,
   "metadata": {},
   "outputs": [],
   "source": [
    "datasets_train = utils.Img_Dataset(file_list=train_packs[0],transform=train_transforms,labels=train_packs[1],class_labels=train_packs[2])\n",
    "datasets_test  = utils.Img_Dataset(file_list=test_packs[0] ,transform=test_transforms,labels=test_packs[1],class_labels=test_packs[2])\n",
    "\n",
    "dataloader_train = torch.utils.data.DataLoader(datasets_train, batch_size=8, shuffle=True,num_workers=8)\n",
    "dataloader_test  = torch.utils.data.DataLoader(datasets_test , batch_size=8, shuffle=False,num_workers=8)\n",
    "\n",
    "dataloaders  = {\"train\":dataloader_train,\"val\":dataloader_test }\n",
    "dataset_sizes ={\"train\":len(datasets_train),\"val\":len(datasets_test)}"
   ]
  },
  {
   "cell_type": "code",
   "execution_count": 5,
   "metadata": {
    "scrolled": true
   },
   "outputs": [],
   "source": [
    "model = models.vgg16(pretrained=True)\n",
    "model.classifier = nn.Sequential(\n",
    "        nn.Linear(25088,100),\n",
    "        nn.ReLU(),\n",
    "        nn.Dropout(0.5),\n",
    "        nn.Linear(100,1) ,nn.Sigmoid())"
   ]
  },
  {
   "cell_type": "code",
   "execution_count": 11,
   "metadata": {},
   "outputs": [],
   "source": [
    "#criterion = nn.CrossEntropyLoss()\n",
    "criterion = nn.BCELoss()\n",
    "optimizer = optim.SGD(model.parameters(), lr=0.001, momentum=0.9)\n",
    "scheduler = lr_scheduler.StepLR(optimizer, step_size=10, gamma=0.5)"
   ]
  },
  {
   "cell_type": "code",
   "execution_count": 14,
   "metadata": {},
   "outputs": [
    {
     "name": "stdout",
     "output_type": "stream",
     "text": [
      "Epoch 1/5\n",
      "----------\n",
      "---train---\n"
     ]
    },
    {
     "name": "stderr",
     "output_type": "stream",
     "text": [
      "/home/yusuke/anaconda3/envs/pytorch/lib/python3.6/site-packages/torch/optim/lr_scheduler.py:122: UserWarning: Detected call of `lr_scheduler.step()` before `optimizer.step()`. In PyTorch 1.1.0 and later, you should call them in the opposite order: `optimizer.step()` before `lr_scheduler.step()`.  Failure to do this will result in PyTorch skipping the first value of the learning rate schedule. See more details at https://pytorch.org/docs/stable/optim.html#how-to-adjust-learning-rate\n",
      "  \"https://pytorch.org/docs/stable/optim.html#how-to-adjust-learning-rate\", UserWarning)\n"
     ]
    },
    {
     "name": "stdout",
     "output_type": "stream",
     "text": [
      "train Loss: 0.5654 ,ACC:0.6925\n",
      "---val---\n",
      "val Loss: 0.5119 ,ACC:0.7300\n",
      "Epoch 2/5\n",
      "----------\n",
      "---train---\n",
      "train Loss: 0.4630 ,ACC:0.7770\n",
      "---val---\n",
      "val Loss: 0.4699 ,ACC:0.7100\n",
      "Epoch 3/5\n",
      "----------\n",
      "---train---\n",
      "   200/   982\r"
     ]
    },
    {
     "ename": "KeyboardInterrupt",
     "evalue": "",
     "output_type": "error",
     "traceback": [
      "\u001b[0;31m---------------------------------------------------------------------------\u001b[0m",
      "\u001b[0;31mKeyboardInterrupt\u001b[0m                         Traceback (most recent call last)",
      "\u001b[0;32m<ipython-input-14-00b3c9c01ae1>\u001b[0m in \u001b[0;36m<module>\u001b[0;34m\u001b[0m\n\u001b[1;32m      1\u001b[0m model,loss_dict,acc_dict = utils.training_model(dataloaders,dataset_sizes,model,criterion,\n\u001b[0;32m----> 2\u001b[0;31m                      optimizer,scheduler,num_epochs=5)\n\u001b[0m",
      "\u001b[0;32m~/Datasets/simoncelli_datasets/pytorch/utils.py\u001b[0m in \u001b[0;36mtraining_model\u001b[0;34m(dataloaders, dataset_sizes, model, criterion, optimizer, scheduler, num_epochs)\u001b[0m\n\u001b[1;32m     52\u001b[0m                         \u001b[0moptimizer\u001b[0m\u001b[0;34m.\u001b[0m\u001b[0mstep\u001b[0m\u001b[0;34m(\u001b[0m\u001b[0;34m)\u001b[0m\u001b[0;34m\u001b[0m\u001b[0;34m\u001b[0m\u001b[0m\n\u001b[1;32m     53\u001b[0m \u001b[0;34m\u001b[0m\u001b[0m\n\u001b[0;32m---> 54\u001b[0;31m                 \u001b[0mrunning_loss\u001b[0m \u001b[0;34m+=\u001b[0m \u001b[0mloss\u001b[0m\u001b[0;34m.\u001b[0m\u001b[0mitem\u001b[0m\u001b[0;34m(\u001b[0m\u001b[0;34m)\u001b[0m \u001b[0;34m*\u001b[0m \u001b[0minputs\u001b[0m\u001b[0;34m.\u001b[0m\u001b[0msize\u001b[0m\u001b[0;34m(\u001b[0m\u001b[0;36m0\u001b[0m\u001b[0;34m)\u001b[0m\u001b[0;34m\u001b[0m\u001b[0;34m\u001b[0m\u001b[0m\n\u001b[0m\u001b[1;32m     55\u001b[0m                 \u001b[0mrunning_corrects\u001b[0m  \u001b[0;34m+=\u001b[0m \u001b[0mtorch\u001b[0m\u001b[0;34m.\u001b[0m\u001b[0msum\u001b[0m\u001b[0;34m(\u001b[0m \u001b[0;34m(\u001b[0m\u001b[0mpreds\u001b[0m\u001b[0;34m>\u001b[0m\u001b[0;36m0.5\u001b[0m\u001b[0;34m)\u001b[0m \u001b[0;34m==\u001b[0m \u001b[0mlabels\u001b[0m \u001b[0;34m)\u001b[0m\u001b[0;34m.\u001b[0m\u001b[0mitem\u001b[0m\u001b[0;34m(\u001b[0m\u001b[0;34m)\u001b[0m\u001b[0;34m\u001b[0m\u001b[0;34m\u001b[0m\u001b[0m\n\u001b[1;32m     56\u001b[0m \u001b[0;34m\u001b[0m\u001b[0m\n",
      "\u001b[0;31mKeyboardInterrupt\u001b[0m: "
     ]
    }
   ],
   "source": [
    "model,loss_dict,acc_dict = utils.training_model(dataloaders,dataset_sizes,model,criterion,\n",
    "                     optimizer,scheduler,num_epochs=5)"
   ]
  },
  {
   "cell_type": "code",
   "execution_count": 36,
   "metadata": {},
   "outputs": [],
   "source": [
    "def test_model(dataloaders,dataset_sizes,model,criterion):\n",
    "    \n",
    "    device = torch.device(\"cuda\" if torch.cuda.is_available() else \"cpu\")\n",
    "    model.to(device)\n",
    "    sum_img = 0\n",
    "    model.eval()\n",
    "    \n",
    "    all_labels = []\n",
    "    all_preds  = []\n",
    "    all_clses  = []\n",
    "    \n",
    "    running_loss = 0.0\n",
    "    running_corrects = 0.\n",
    "    \n",
    "    phase=\"val\"\n",
    "    for inputs, labels, cls in dataloaders[phase]:\n",
    "        \n",
    "        sum_img += inputs.size(0)\n",
    "        print(\"{:6}/{:6}\".format(sum_img,dataset_sizes[phase]),end=\"\\r\")\n",
    "\n",
    "        inputs = inputs.to(device)\n",
    "        labels = labels.to(device)\n",
    "        optimizer.zero_grad()\n",
    "\n",
    "        preds = model(inputs)\n",
    "        labels = labels.view_as(preds)\n",
    "        loss = criterion(preds,labels)\n",
    "        \n",
    "        running_loss += loss.item() * inputs.size(0)\n",
    "        running_corrects  += torch.sum( (preds>0.5) == labels ).item()\n",
    "        \n",
    "        all_labels += list(labels.to(\"cpu\").numpy().reshape(-1))\n",
    "        all_preds  += list(preds.detach().to(\"cpu\").numpy().reshape(-1))\n",
    "        all_clses  += cls\n",
    "        \n",
    "    epoch_loss = running_loss / dataset_sizes[phase]\n",
    "    epoch_acc  = running_corrects / dataset_sizes[phase]\n",
    "    print('Loss: {:.4f} ,ACC:{:.4f}'.format(epoch_loss,epoch_acc))\n",
    "    return epoch_loss,epoch_acc,np.array(all_labels),np.array(all_preds),all_clses"
   ]
  },
  {
   "cell_type": "code",
   "execution_count": 9,
   "metadata": {},
   "outputs": [],
   "source": [
    "with open(\"models/log.pkl\",\"wb\") as f:\n",
    "    pkl.dump([loss_dict,acc_dict],f)\n",
    "\n",
    "torch.save(model.state_dict(),\"models/final_model_wts.pt\")"
   ]
  },
  {
   "cell_type": "code",
   "execution_count": 54,
   "metadata": {},
   "outputs": [
    {
     "name": "stdout",
     "output_type": "stream",
     "text": [
      "Loss: 0.6974 ,ACC:0.5400\n",
      "0.54\n",
      "['Fabric.0008_s.o' 'Fabric.0008_s.o' 'Fabric.0008_s.o' 'Fabric.0008_s.o'\n",
      " 'Fabric.0008_s.o' 'Fabric.0008_s.o' 'sawtooth-wiggle.o'\n",
      " 'sawtooth-wiggle.o' 'sawtooth-wiggle.o' 'sawtooth-wiggle.o'\n",
      " 'sawtooth-wiggle.o' 'sawtooth-wiggle.o' 'd30_2180.o' 'd30_2180.o'\n",
      " 'd30_2180.o' 'X100_0628.o' 'X100_0628.o' 'checkerboard.o'\n",
      " 'checkerboard.o' 'checkerboard.o' 'checkerboard.o' 'Fabric.0008_s.o'\n",
      " 'Fabric.0008_s.o' 'Fabric.0008_s.o' 'Fabric.0008_s.o' 'Fabric.0008_s.o'\n",
      " 'Fabric.0008_s.o' 'Fabric.0008_s.o' 'sawtooth-wiggle.o'\n",
      " 'sawtooth-wiggle.o' 'sawtooth-wiggle.o' 'sawtooth-wiggle.o'\n",
      " 'sawtooth-wiggle.o' 'sawtooth-wiggle.o' 'd30_2180.o' 'd30_2180.o'\n",
      " 'd30_2180.o' 'd30_2180.o' 'd30_2180.o' 'd30_2180.o' 'X100_0628.o'\n",
      " 'X100_0628.o' 'X100_0628.o' 'X100_0628.o' 'X100_0628.o' 'X100_0628.o'\n",
      " 'X100_0628.o' 'X100_0628.o' 'X100_0628.o' 'X100_0628.o' 'checkerboard.o'\n",
      " 'checkerboard.o' 'checkerboard.o' 'checkerboard.o']\n"
     ]
    }
   ],
   "source": [
    "loss,acc,labels,preds,classes = test_model(dataloaders,dataset_sizes,model,criterion)\n",
    "corect_index = labels == (preds > 0.5)\n",
    "print(sum( corect_index )/100)\n",
    "print( np.array(classes)[correct_index] )"
   ]
  }
 ],
 "metadata": {
  "kernelspec": {
   "display_name": "Python 3",
   "language": "python",
   "name": "python3"
  },
  "language_info": {
   "codemirror_mode": {
    "name": "ipython",
    "version": 3
   },
   "file_extension": ".py",
   "mimetype": "text/x-python",
   "name": "python",
   "nbconvert_exporter": "python",
   "pygments_lexer": "ipython3",
   "version": "3.6.8"
  }
 },
 "nbformat": 4,
 "nbformat_minor": 2
}
